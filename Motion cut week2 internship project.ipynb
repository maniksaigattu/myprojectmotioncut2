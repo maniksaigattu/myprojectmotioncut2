{
 "cells": [
  {
   "cell_type": "code",
   "execution_count": 3,
   "id": "49336639",
   "metadata": {},
   "outputs": [
    {
     "name": "stdout",
     "output_type": "stream",
     "text": [
      "Welcome to the Temperature Converter!\n",
      "Enter the temperature value: 42\n",
      "Enter the source unit (C for Celsius, F for Fahrenheit): F\n",
      "Enter the target unit (C for Celsius, F for Fahrenheit): C\n",
      "42.0°F is equal to 5.555555555555555°C.\n",
      "Enter the temperature value: 55\n",
      "Enter the source unit (C for Celsius, F for Fahrenheit): C\n",
      "Enter the target unit (C for Celsius, F for Fahrenheit): F\n",
      "55.0°C is equal to 131.0°F.\n",
      "\n",
      "Program terminated by the user.\n",
      "None\n"
     ]
    }
   ],
   "source": [
    "def celsius_to_fahrenheit(celsius):\n",
    "    return (celsius * 9/5) + 32\n",
    "\n",
    "def fahrenheit_to_celsius(fahrenheit):\n",
    "    return (fahrenheit - 32) * 5/9\n",
    "\n",
    "def main():\n",
    "    print(\"Welcome to the Temperature Converter!\")\n",
    "    \n",
    "    while True:\n",
    "        try:\n",
    "            value = float(input(\"Enter the temperature value: \"))\n",
    "            source_unit = input(\"Enter the source unit (C for Celsius, F for Fahrenheit): \").upper()\n",
    "            target_unit = input(\"Enter the target unit (C for Celsius, F for Fahrenheit): \").upper()\n",
    "            \n",
    "            if source_unit == target_unit:\n",
    "                print(\"Source and target units are the same. No conversion needed.\")\n",
    "                continue\n",
    "\n",
    "            if source_unit == 'F' and target_unit == 'C':\n",
    "                result = fahrenheit_to_celsius(value)\n",
    "                print(f\"{value}°F is equal to {result}°C.\")\n",
    "            elif source_unit == 'C' and target_unit == 'F':\n",
    "                result = celsius_to_fahrenheit(value)\n",
    "                print(f\"{value}°C is equal to {result}°F.\")\n",
    "            else:\n",
    "                print(\"Unsupported units. Please enter 'C' or 'F' for Celsius or Fahrenheit.\")\n",
    "        except ValueError:\n",
    "            print(\"Invalid input. Please enter a numeric value for the temperature.\")\n",
    "        except KeyboardInterrupt:\n",
    "            print(\"\\nProgram terminated by the user.\")\n",
    "            break\n",
    "\n",
    "print(main())"
   ]
  },
  {
   "cell_type": "code",
   "execution_count": null,
   "id": "0d368fcc",
   "metadata": {},
   "outputs": [],
   "source": []
  }
 ],
 "metadata": {
  "kernelspec": {
   "display_name": "Python 3 (ipykernel)",
   "language": "python",
   "name": "python3"
  },
  "language_info": {
   "codemirror_mode": {
    "name": "ipython",
    "version": 3
   },
   "file_extension": ".py",
   "mimetype": "text/x-python",
   "name": "python",
   "nbconvert_exporter": "python",
   "pygments_lexer": "ipython3",
   "version": "3.9.13"
  }
 },
 "nbformat": 4,
 "nbformat_minor": 5
}
